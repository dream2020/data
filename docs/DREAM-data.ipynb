{
 "cells": [
  {
   "cell_type": "markdown",
   "metadata": {},
   "source": [
    "DREAM Dataset\n",
    "=============\n",
    "\n",
    "![DREAM Logo](https://github.com/dream2020/data/raw/master/images/dream.png)\n",
    "\n",
    "Within the European research project [DREAM: Development of Robot-Enhanced therapy for children with AutisM spectrum disorders](https://dream2020.github.io/DREAM/), a large evaluation of _Robot Assisted Therapy (RAT)_ has been conducted, compared to _Standard Human Treatment (SHT)_. Both conditions follows a _Applied Behavior Analysis (ABA)_ protocol. 76 children diagnosed with _Autism Spectrum Disorders (ASD)_ participated, going through a total of 3500 therapy sessions and more than 300 hours of therapy. Each session was recorded with three RGB cameras and two RGBD (Kinect) cameras, providing detailed information of children's behavior during therapy. \n",
    "\n",
    "The DREAM Dataset is available at [github.com/dream2020/data](https://github.com/dream2020/data) and comprise eye-gaze and 3D skeleton data for upper body of the participating children, all recorded in a joint frame of reference. This notebook demonstrates how to read and visualize the DREAM dataset using Python 3.\n",
    "\n",
    "The experimental setup used for all recordings in this dataset is displayed below. The red axes labeled x,y,z visualizes the coordinate system in relation to the physical environment.\n",
    "\n",
    "![Experimental Setup](https://github.com/dream2020/data/raw/master/images/RET.jpg)\n",
    "\n",
    "## Usage\n",
    "\n",
    "This notebook can be read as a standard document and will provide a brief overview of how to understand the data without the need to execute any code on your own machine. However, you may also download and execute this notebook locally using [Jupyter](https://jupyter.org/). Jupyter is part of [Anaconda](https://www.anaconda.com/) and we recomment that you run this notebook through the complete Anaconda distribution.\n",
    "\n",
    "One you have [Anaconda](https://www.anaconda.com/) installed, you may clone the DREAM dataset repository from [github.com/dream2020/data](https://github.com/dream2020/data). This notebook comes with the dataset and is opened using the [Jupyter](https://jupyter.org/) explorer."
   ]
  },
  {
   "cell_type": "markdown",
   "metadata": {},
   "source": [
    "_First, let's import the dataset tools provided with DREAM dataset..._"
   ]
  },
  {
   "cell_type": "code",
   "execution_count": 1,
   "metadata": {},
   "outputs": [],
   "source": [
    "%load_ext autoreload\n",
    "%autoreload 2\n",
    "import dataset_tools as dataset"
   ]
  },
  {
   "cell_type": "markdown",
   "metadata": {},
   "source": [
    "_Next, we import a couple of generic libraries for plotting and data handling..._"
   ]
  },
  {
   "cell_type": "code",
   "execution_count": 2,
   "metadata": {},
   "outputs": [],
   "source": [
    "%matplotlib inline\n",
    "import importlib\n",
    "from matplotlib import pyplot as plt\n",
    "import matplotlib\n",
    "import numpy as np"
   ]
  },
  {
   "cell_type": "markdown",
   "metadata": {},
   "source": [
    "_Now, we are ready to load the dataset and plot it's basic JSON structure._"
   ]
  },
  {
   "cell_type": "code",
   "execution_count": 3,
   "metadata": {},
   "outputs": [
    {
     "name": "stdout",
     "output_type": "stream",
     "text": [
      "{\n",
      "    \"$id\": \"User 37_18_Intervention 2_20171102_123242.369000.json\",\n",
      "    \"$schema\": \"https://raw.githubusercontent.com/dream2020/data/master/specification/dream.1.2.json\",\n",
      "    \"ados\": {\n",
      "        \"preTest\": {\n",
      "            \"communication\": 2,\n",
      "            \"interaction\": 5,\n",
      "            \"module\": 1.0,\n",
      "            \"play\": 1,\n",
      "            \"protocol\": \"ADOS-G\",\n",
      "            \"socialCommunicationQuestionnaire\": 23,\n",
      "            \"stereotype\": 0,\n",
      "            \"total\": 7\n",
      "        }\n",
      "    },\n",
      "    \"condition\": \"RET\",\n",
      "    \"eye_gaze\": {\"rx\": [],\"ry\": [],\"rz\": []},\n",
      "    \"frame_rate\": 25.1,\n",
      "    \"head_gaze\": {\"rx\": [],\"ry\": [],\"rz\": []},\n",
      "    \"participant\": {\"ageInMonths\": 47,\"gender\": \"male\",\"id\": 37},\n",
      "    \"skeleton\": {\n",
      "        \"elbow_left\": {\"confidence\": [],\"x\": [],\"y\": [],\"z\": []},\n",
      "        \"elbow_right\": {\"confidence\": [],\"x\": [],\"y\": [],\"z\": []},\n",
      "        \"hand_left\": {\"confidence\": [],\"x\": [],\"y\": [],\"z\": []},\n",
      "        \"hand_right\": {\"confidence\": [],\"x\": [],\"y\": [],\"z\": []},\n",
      "        \"head\": {\"confidence\": [],\"x\": [],\"y\": [],\"z\": []},\n",
      "        \"sholder_center\": {\"confidence\": [],\"x\": [],\"y\": [],\"z\": []},\n",
      "        \"sholder_left\": {\"confidence\": [],\"x\": [],\"y\": [],\"z\": []},\n",
      "        \"sholder_right\": {\"confidence\": [],\"x\": [],\"y\": [],\"z\": []},\n",
      "        \"wrist_left\": {\"confidence\": [],\"x\": [],\"y\": [],\"z\": []},\n",
      "        \"wrist_right\": {\"confidence\": [],\"x\": [],\"y\": [],\"z\": []}\n",
      "    },\n",
      "    \"task\": {\n",
      "        \"ability\": \"TT\",\n",
      "        \"difficultyLevel\": 1,\n",
      "        \"end\": 10279,\n",
      "        \"index\": 18,\n",
      "        \"start\": 0\n",
      "    },\n",
      "    \"time\": \"2017-11-02T12:32:42.369000\"\n",
      "}\n"
     ]
    }
   ],
   "source": [
    "data = dataset.open('../dataset/data_example.json')\n",
    "print(data.structure())"
   ]
  },
  {
   "cell_type": "markdown",
   "metadata": {},
   "source": [
    "## Frontal view"
   ]
  },
  {
   "cell_type": "code",
   "execution_count": 4,
   "metadata": {},
   "outputs": [
    {
     "data": {
      "text/plain": [
       "(-300.0, 500.0, -700.0, 0.0)"
      ]
     },
     "execution_count": 4,
     "metadata": {},
     "output_type": "execute_result"
    },
    {
     "data": {
      "image/png": "[encoded data removed]",
      "text/plain": [
       "<Figure size 864x504 with 1 Axes>"
      ]
     },
     "metadata": {
      "needs_background": "light"
     },
     "output_type": "display_data"
    }
   ],
   "source": [
    "fig, ax = plt.subplots(1,1,figsize=(12, 7))\n",
    "skeleton = data['skeleton']\n",
    "frame = 25*16\n",
    "for key in skeleton:\n",
    "    x,y = skeleton[key]['x'][frame],skeleton[key]['y'][frame]\n",
    "    ax.plot(x,y,'o')\n",
    "    ax.text(x,y,key)\n",
    "ax.axis([-300,500,-700,0])"
   ]
  },
  {
   "cell_type": "markdown",
   "metadata": {},
   "source": [
    "## Side view"
   ]
  },
  {
   "cell_type": "code",
   "execution_count": 5,
   "metadata": {},
   "outputs": [
    {
     "data": {
      "text/plain": [
       "(-100.0, 1200.0, -700.0, 0.0)"
      ]
     },
     "execution_count": 5,
     "metadata": {},
     "output_type": "execute_result"
    },
    {
     "data": {
      "image/png": "[encoded data removed]",
      "text/plain": [
       "<Figure size 864x504 with 1 Axes>"
      ]
     },
     "metadata": {
      "needs_background": "light"
     },
     "output_type": "display_data"
    }
   ],
   "source": [
    "fig, ax = plt.subplots(1,1,figsize=(12, 7))\n",
    "for key in skeleton:\n",
    "    x,y = skeleton[key]['z'][frame],skeleton[key]['y'][frame]\n",
    "    ax.plot(x,y,'o')\n",
    "    ax.text(x,y,key)\n",
    "\n",
    "gaze = data.gaze()[frame]\n",
    "ax.plot(gaze[2],gaze[1],'x')\n",
    "ax.axis([-100,1200,-700,0])"
   ]
  },
  {
   "cell_type": "markdown",
   "metadata": {},
   "source": [
    "# Exporting data to other formats\n",
    "The dataset tools library adds convenience methods for representing the DREAM intervention json-files as DataFrames, from which you can export the data to a variety of different formats. "
   ]
  },
  {
   "cell_type": "code",
   "execution_count": 31,
   "metadata": {},
   "outputs": [],
   "source": [
    "myDataFrame = data.to_dataFrame()"
   ]
  },
  {
   "cell_type": "code",
   "execution_count": 32,
   "metadata": {},
   "outputs": [],
   "source": [
    "data.to_csv('data.csv')"
   ]
  },
  {
   "cell_type": "markdown",
   "metadata": {},
   "source": [
    "## Further reading"
   ]
  },
  {
   "cell_type": "markdown",
   "metadata": {},
   "source": [
    "For a more comprehensive visualization of the DREAM Dataset, please refer to the projects github page: https://github.com/dream2020/data and the [DREAM Data Visualizer](https://github.com/dream2020/DREAM-data-visualizer)."
   ]
  }
 ],
 "metadata": {
  "kernelspec": {
   "display_name": "Python 3",
   "language": "python",
   "name": "python3"
  },
  "language_info": {
   "codemirror_mode": {
    "name": "ipython",
    "version": 3
   },
   "file_extension": ".py",
   "mimetype": "text/x-python",
   "name": "python",
   "nbconvert_exporter": "python",
   "pygments_lexer": "ipython3",
   "version": "3.8.5"
  }
 },
 "nbformat": 4,
 "nbformat_minor": 4
}
